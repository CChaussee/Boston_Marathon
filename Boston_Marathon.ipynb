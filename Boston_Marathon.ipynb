{
 "cells": [
  {
   "cell_type": "code",
   "execution_count": 1,
   "id": "committed-rover",
   "metadata": {},
   "outputs": [],
   "source": [
    "import pymongo\n",
    "import pandas as pd\n",
    "from config import gkey"
   ]
  },
  {
   "cell_type": "code",
   "execution_count": 2,
   "id": "terminal-resolution",
   "metadata": {},
   "outputs": [],
   "source": [
    "conn = \"mongodb://localhost:27017\"\n",
    "client = pymongo.MongoClient(conn)"
   ]
  },
  {
   "cell_type": "code",
   "execution_count": 3,
   "id": "bottom-alert",
   "metadata": {},
   "outputs": [],
   "source": [
    "db = client.marathon_db"
   ]
  },
  {
   "cell_type": "code",
   "execution_count": 4,
   "id": "impressive-boring",
   "metadata": {},
   "outputs": [],
   "source": [
    "#giving csv varabiles\n",
    "marathon15_file = \"marathon_results_2015.csv\"\n",
    "marathon16_file = \"marathon_results_2016.csv\"\n",
    "marathon17_file = \"marathon_results_2017.csv\""
   ]
  },
  {
   "cell_type": "code",
   "execution_count": 5,
   "id": "actual-syntax",
   "metadata": {},
   "outputs": [],
   "source": [
    "mara15 = pd.read_csv(marathon15_file)\n",
    "mara15[\"Year\"] = \"2015\"\n",
    "del mara15[\"Unnamed: 0\"]\n",
    "del mara15[\"Unnamed: 9\"]"
   ]
  },
  {
   "cell_type": "code",
   "execution_count": 6,
   "id": "acceptable-buffalo",
   "metadata": {},
   "outputs": [],
   "source": [
    "mara16 = pd.read_csv(marathon16_file)\n",
    "mara16[\"Year\"] = \"2016\"\n",
    "del mara16[\"Unnamed: 8\"]"
   ]
  },
  {
   "cell_type": "code",
   "execution_count": 7,
   "id": "worst-calculator",
   "metadata": {},
   "outputs": [],
   "source": [
    "mara17 = pd.read_csv(marathon17_file)\n",
    "mara17[\"Year\"] = \"2017\"\n",
    "del mara17[\"Unnamed: 0\"]\n",
    "del mara17[\"Unnamed: 9\"]"
   ]
  },
  {
   "cell_type": "code",
   "execution_count": 8,
   "id": "together-banks",
   "metadata": {},
   "outputs": [
    {
     "name": "stdout",
     "output_type": "stream",
     "text": [
      "<class 'pandas.core.frame.DataFrame'>\n",
      "RangeIndex: 26399 entries, 0 to 26398\n",
      "Data columns (total 26 columns):\n",
      " #   Column         Non-Null Count  Dtype  \n",
      "---  ------         --------------  -----  \n",
      " 0   Bib            26399 non-null  object \n",
      " 1   Name           26399 non-null  object \n",
      " 2   Age            26399 non-null  int64  \n",
      " 3   M/F            26399 non-null  object \n",
      " 4   City           26399 non-null  object \n",
      " 5   State          20934 non-null  object \n",
      " 6   Country        26399 non-null  object \n",
      " 7   Citizen        1254 non-null   object \n",
      " 8   5K             26399 non-null  object \n",
      " 9   10K            26399 non-null  object \n",
      " 10  15K            26399 non-null  object \n",
      " 11  20K            26399 non-null  object \n",
      " 12  Half           26399 non-null  object \n",
      " 13  25K            26399 non-null  object \n",
      " 14  30K            26399 non-null  object \n",
      " 15  35K            26399 non-null  object \n",
      " 16  40K            26399 non-null  object \n",
      " 17  Pace           26399 non-null  object \n",
      " 18  Proj Time      26399 non-null  object \n",
      " 19  Official Time  26399 non-null  object \n",
      " 20  Overall        26399 non-null  int64  \n",
      " 21  Gender         26399 non-null  int64  \n",
      " 22  Division       26399 non-null  int64  \n",
      " 23  lat            20934 non-null  float64\n",
      " 24  long           20934 non-null  float64\n",
      " 25  Year           26399 non-null  object \n",
      "dtypes: float64(2), int64(4), object(20)\n",
      "memory usage: 5.2+ MB\n"
     ]
    }
   ],
   "source": [
    "mara17.info()"
   ]
  },
  {
   "cell_type": "code",
   "execution_count": 9,
   "id": "bulgarian-nepal",
   "metadata": {},
   "outputs": [
    {
     "name": "stdout",
     "output_type": "stream",
     "text": [
      "<class 'pandas.core.frame.DataFrame'>\n",
      "RangeIndex: 26584 entries, 0 to 26583\n",
      "Data columns (total 26 columns):\n",
      " #   Column         Non-Null Count  Dtype  \n",
      "---  ------         --------------  -----  \n",
      " 0   Bib            26584 non-null  object \n",
      " 1   Name           26584 non-null  object \n",
      " 2   Age            26584 non-null  int64  \n",
      " 3   M/F            26584 non-null  object \n",
      " 4   City           26584 non-null  object \n",
      " 5   State          21866 non-null  object \n",
      " 6   Country        26584 non-null  object \n",
      " 7   Citizen        1064 non-null   object \n",
      " 8   5K             26584 non-null  object \n",
      " 9   10K            26584 non-null  object \n",
      " 10  15K            26584 non-null  object \n",
      " 11  20K            26584 non-null  object \n",
      " 12  Half           26584 non-null  object \n",
      " 13  25K            26584 non-null  object \n",
      " 14  30K            26584 non-null  object \n",
      " 15  35K            26584 non-null  object \n",
      " 16  40K            26584 non-null  object \n",
      " 17  Pace           26584 non-null  object \n",
      " 18  Proj Time      26584 non-null  object \n",
      " 19  Official Time  26584 non-null  object \n",
      " 20  Overall        26584 non-null  int64  \n",
      " 21  Gender         26584 non-null  int64  \n",
      " 22  Division       26584 non-null  int64  \n",
      " 23  lat            21866 non-null  float64\n",
      " 24  long           21866 non-null  float64\n",
      " 25  Year           26584 non-null  object \n",
      "dtypes: float64(2), int64(4), object(20)\n",
      "memory usage: 5.3+ MB\n"
     ]
    }
   ],
   "source": [
    "mara15.info()"
   ]
  },
  {
   "cell_type": "code",
   "execution_count": 10,
   "id": "dutch-diesel",
   "metadata": {},
   "outputs": [
    {
     "name": "stdout",
     "output_type": "stream",
     "text": [
      "<class 'pandas.core.frame.DataFrame'>\n",
      "RangeIndex: 26620 entries, 0 to 26619\n",
      "Data columns (total 26 columns):\n",
      " #   Column         Non-Null Count  Dtype  \n",
      "---  ------         --------------  -----  \n",
      " 0   Bib            26620 non-null  object \n",
      " 1   Name           26620 non-null  object \n",
      " 2   Age            26620 non-null  int64  \n",
      " 3   M/F            26620 non-null  object \n",
      " 4   City           26619 non-null  object \n",
      " 5   State          21639 non-null  object \n",
      " 6   Country        26620 non-null  object \n",
      " 7   Citizen        1122 non-null   object \n",
      " 8   5K             26620 non-null  object \n",
      " 9   10K            26620 non-null  object \n",
      " 10  15K            26620 non-null  object \n",
      " 11  20K            26620 non-null  object \n",
      " 12  Half           26620 non-null  object \n",
      " 13  25K            26620 non-null  object \n",
      " 14  30K            26620 non-null  object \n",
      " 15  35K            26620 non-null  object \n",
      " 16  40K            26620 non-null  object \n",
      " 17  Pace           26620 non-null  object \n",
      " 18  Proj Time      26620 non-null  object \n",
      " 19  Official Time  26620 non-null  object \n",
      " 20  Overall        26620 non-null  int64  \n",
      " 21  Gender         26620 non-null  int64  \n",
      " 22  Division       26620 non-null  int64  \n",
      " 23  lat            21639 non-null  float64\n",
      " 24  long           21639 non-null  float64\n",
      " 25  Year           26620 non-null  object \n",
      "dtypes: float64(2), int64(4), object(20)\n",
      "memory usage: 5.3+ MB\n"
     ]
    }
   ],
   "source": [
    "mara16.info()"
   ]
  },
  {
   "cell_type": "code",
   "execution_count": 11,
   "id": "charged-science",
   "metadata": {},
   "outputs": [
    {
     "name": "stdout",
     "output_type": "stream",
     "text": [
      "<class 'pandas.core.frame.DataFrame'>\n",
      "Int64Index: 79603 entries, 0 to 26398\n",
      "Data columns (total 26 columns):\n",
      " #   Column         Non-Null Count  Dtype  \n",
      "---  ------         --------------  -----  \n",
      " 0   Bib            79603 non-null  object \n",
      " 1   Name           79603 non-null  object \n",
      " 2   Age            79603 non-null  int64  \n",
      " 3   M/F            79603 non-null  object \n",
      " 4   City           79602 non-null  object \n",
      " 5   State          64439 non-null  object \n",
      " 6   Country        79603 non-null  object \n",
      " 7   Citizen        3440 non-null   object \n",
      " 8   5K             79603 non-null  object \n",
      " 9   10K            79603 non-null  object \n",
      " 10  15K            79603 non-null  object \n",
      " 11  20K            79603 non-null  object \n",
      " 12  Half           79603 non-null  object \n",
      " 13  25K            79603 non-null  object \n",
      " 14  30K            79603 non-null  object \n",
      " 15  35K            79603 non-null  object \n",
      " 16  40K            79603 non-null  object \n",
      " 17  Pace           79603 non-null  object \n",
      " 18  Proj Time      79603 non-null  object \n",
      " 19  Official Time  79603 non-null  object \n",
      " 20  Overall        79603 non-null  int64  \n",
      " 21  Gender         79603 non-null  int64  \n",
      " 22  Division       79603 non-null  int64  \n",
      " 23  lat            64439 non-null  float64\n",
      " 24  long           64439 non-null  float64\n",
      " 25  Year           79603 non-null  object \n",
      "dtypes: float64(2), int64(4), object(20)\n",
      "memory usage: 16.4+ MB\n"
     ]
    }
   ],
   "source": [
    "merged_df = mara15.append(mara16)\n",
    "merged_df = merged_df.append(mara17)\n",
    "merged_df.info()"
   ]
  },
  {
   "cell_type": "code",
   "execution_count": 12,
   "id": "sacred-telling",
   "metadata": {},
   "outputs": [
    {
     "data": {
      "text/html": [
       "<div>\n",
       "<style scoped>\n",
       "    .dataframe tbody tr th:only-of-type {\n",
       "        vertical-align: middle;\n",
       "    }\n",
       "\n",
       "    .dataframe tbody tr th {\n",
       "        vertical-align: top;\n",
       "    }\n",
       "\n",
       "    .dataframe thead th {\n",
       "        text-align: right;\n",
       "    }\n",
       "</style>\n",
       "<table border=\"1\" class=\"dataframe\">\n",
       "  <thead>\n",
       "    <tr style=\"text-align: right;\">\n",
       "      <th></th>\n",
       "      <th>Bib</th>\n",
       "      <th>Name</th>\n",
       "      <th>Age</th>\n",
       "      <th>M/F</th>\n",
       "      <th>City</th>\n",
       "      <th>State</th>\n",
       "      <th>Country</th>\n",
       "      <th>Citizen</th>\n",
       "      <th>5K</th>\n",
       "      <th>10K</th>\n",
       "      <th>...</th>\n",
       "      <th>40K</th>\n",
       "      <th>Pace</th>\n",
       "      <th>Proj Time</th>\n",
       "      <th>Official Time</th>\n",
       "      <th>Overall</th>\n",
       "      <th>Gender</th>\n",
       "      <th>Division</th>\n",
       "      <th>lat</th>\n",
       "      <th>long</th>\n",
       "      <th>Year</th>\n",
       "    </tr>\n",
       "  </thead>\n",
       "  <tbody>\n",
       "    <tr>\n",
       "      <th>0</th>\n",
       "      <td>3</td>\n",
       "      <td>Desisa, Lelisa</td>\n",
       "      <td>25</td>\n",
       "      <td>M</td>\n",
       "      <td>Ambo</td>\n",
       "      <td>NaN</td>\n",
       "      <td>ETH</td>\n",
       "      <td>NaN</td>\n",
       "      <td>0:14:43</td>\n",
       "      <td>0:29:43</td>\n",
       "      <td>...</td>\n",
       "      <td>2:02:39</td>\n",
       "      <td>0:04:56</td>\n",
       "      <td>-</td>\n",
       "      <td>2:09:17</td>\n",
       "      <td>1</td>\n",
       "      <td>1</td>\n",
       "      <td>1</td>\n",
       "      <td>NaN</td>\n",
       "      <td>NaN</td>\n",
       "      <td>2015</td>\n",
       "    </tr>\n",
       "    <tr>\n",
       "      <th>1</th>\n",
       "      <td>4</td>\n",
       "      <td>Tsegay, Yemane Adhane</td>\n",
       "      <td>30</td>\n",
       "      <td>M</td>\n",
       "      <td>Addis Ababa</td>\n",
       "      <td>NaN</td>\n",
       "      <td>ETH</td>\n",
       "      <td>NaN</td>\n",
       "      <td>0:14:43</td>\n",
       "      <td>0:29:43</td>\n",
       "      <td>...</td>\n",
       "      <td>2:02:42</td>\n",
       "      <td>0:04:58</td>\n",
       "      <td>-</td>\n",
       "      <td>2:09:48</td>\n",
       "      <td>2</td>\n",
       "      <td>2</td>\n",
       "      <td>2</td>\n",
       "      <td>NaN</td>\n",
       "      <td>NaN</td>\n",
       "      <td>2015</td>\n",
       "    </tr>\n",
       "    <tr>\n",
       "      <th>2</th>\n",
       "      <td>8</td>\n",
       "      <td>Chebet, Wilson</td>\n",
       "      <td>29</td>\n",
       "      <td>M</td>\n",
       "      <td>Marakwet</td>\n",
       "      <td>NaN</td>\n",
       "      <td>KEN</td>\n",
       "      <td>NaN</td>\n",
       "      <td>0:14:43</td>\n",
       "      <td>0:29:43</td>\n",
       "      <td>...</td>\n",
       "      <td>2:03:01</td>\n",
       "      <td>0:04:59</td>\n",
       "      <td>-</td>\n",
       "      <td>2:10:22</td>\n",
       "      <td>3</td>\n",
       "      <td>3</td>\n",
       "      <td>3</td>\n",
       "      <td>NaN</td>\n",
       "      <td>NaN</td>\n",
       "      <td>2015</td>\n",
       "    </tr>\n",
       "    <tr>\n",
       "      <th>3</th>\n",
       "      <td>11</td>\n",
       "      <td>Kipyego, Bernard</td>\n",
       "      <td>28</td>\n",
       "      <td>M</td>\n",
       "      <td>Eldoret</td>\n",
       "      <td>NaN</td>\n",
       "      <td>KEN</td>\n",
       "      <td>NaN</td>\n",
       "      <td>0:14:43</td>\n",
       "      <td>0:29:44</td>\n",
       "      <td>...</td>\n",
       "      <td>2:03:47</td>\n",
       "      <td>0:05:00</td>\n",
       "      <td>-</td>\n",
       "      <td>2:10:47</td>\n",
       "      <td>4</td>\n",
       "      <td>4</td>\n",
       "      <td>4</td>\n",
       "      <td>NaN</td>\n",
       "      <td>NaN</td>\n",
       "      <td>2015</td>\n",
       "    </tr>\n",
       "    <tr>\n",
       "      <th>4</th>\n",
       "      <td>10</td>\n",
       "      <td>Korir, Wesley</td>\n",
       "      <td>32</td>\n",
       "      <td>M</td>\n",
       "      <td>Kitale</td>\n",
       "      <td>NaN</td>\n",
       "      <td>KEN</td>\n",
       "      <td>NaN</td>\n",
       "      <td>0:14:43</td>\n",
       "      <td>0:29:44</td>\n",
       "      <td>...</td>\n",
       "      <td>2:03:27</td>\n",
       "      <td>0:05:00</td>\n",
       "      <td>-</td>\n",
       "      <td>2:10:49</td>\n",
       "      <td>5</td>\n",
       "      <td>5</td>\n",
       "      <td>5</td>\n",
       "      <td>NaN</td>\n",
       "      <td>NaN</td>\n",
       "      <td>2015</td>\n",
       "    </tr>\n",
       "  </tbody>\n",
       "</table>\n",
       "<p>5 rows × 26 columns</p>\n",
       "</div>"
      ],
      "text/plain": [
       "  Bib                   Name  Age M/F         City State Country Citizen  \\\n",
       "0   3         Desisa, Lelisa   25   M         Ambo   NaN     ETH     NaN   \n",
       "1   4  Tsegay, Yemane Adhane   30   M  Addis Ababa   NaN     ETH     NaN   \n",
       "2   8         Chebet, Wilson   29   M     Marakwet   NaN     KEN     NaN   \n",
       "3  11       Kipyego, Bernard   28   M      Eldoret   NaN     KEN     NaN   \n",
       "4  10          Korir, Wesley   32   M       Kitale   NaN     KEN     NaN   \n",
       "\n",
       "        5K      10K  ...      40K     Pace Proj Time Official Time Overall  \\\n",
       "0  0:14:43  0:29:43  ...  2:02:39  0:04:56         -       2:09:17       1   \n",
       "1  0:14:43  0:29:43  ...  2:02:42  0:04:58         -       2:09:48       2   \n",
       "2  0:14:43  0:29:43  ...  2:03:01  0:04:59         -       2:10:22       3   \n",
       "3  0:14:43  0:29:44  ...  2:03:47  0:05:00         -       2:10:47       4   \n",
       "4  0:14:43  0:29:44  ...  2:03:27  0:05:00         -       2:10:49       5   \n",
       "\n",
       "  Gender Division lat long  Year  \n",
       "0      1        1 NaN  NaN  2015  \n",
       "1      2        2 NaN  NaN  2015  \n",
       "2      3        3 NaN  NaN  2015  \n",
       "3      4        4 NaN  NaN  2015  \n",
       "4      5        5 NaN  NaN  2015  \n",
       "\n",
       "[5 rows x 26 columns]"
      ]
     },
     "execution_count": 12,
     "metadata": {},
     "output_type": "execute_result"
    }
   ],
   "source": [
    "merged_df.head()"
   ]
  },
  {
   "cell_type": "code",
   "execution_count": null,
   "id": "incredible-sailing",
   "metadata": {},
   "outputs": [],
   "source": [
    "merged_df.State.unique()"
   ]
  },
  {
   "cell_type": "code",
   "execution_count": null,
   "id": "commercial-embassy",
   "metadata": {},
   "outputs": [],
   "source": [
    "merged_df.Country.unique()"
   ]
  },
  {
   "cell_type": "code",
   "execution_count": null,
   "id": "legislative-modeling",
   "metadata": {},
   "outputs": [],
   "source": [
    "base_url = \"https://maps.googleapis.com/maps/api/place/textsearch/json?\"\n",
    "for index, row in merged_df.iterrows():\n",
    "    state = row['State']\n",
    "    country = row['Country']\n",
    "    if pd.isnull(state):\n",
    "        #get geolocation of country\n",
    "        params = {\"query\": str(country),\n",
    "                \"key\": gkey}\n",
    "    else: \n",
    "        #get geoLocation of state\n",
    "        params = {\n",
    "            \"query\": str(state) + '+' + str(country),\n",
    "                \"key\": gkey\n",
    "        }\n",
    "    response = requests.get(base_url, params=params).json()\n",
    "   # try:\n",
    "    #        df.loc[index, 'Place ID'] = response_json['results'][0]['place_id']\n",
    "     #   except (KeyError, IndexError, ValueError, json.JSONDecodeError, TypeError):\n",
    "      #      print(f'{name} - Could not find Google PlaceID')\n",
    "response    "
   ]
  },
  {
   "cell_type": "code",
   "execution_count": 13,
   "id": "devoted-observation",
   "metadata": {},
   "outputs": [],
   "source": [
    "data = []\n",
    "for index, row in merged_df.iterrows():\n",
    "    post={\n",
    "        'Name' : str(row[\"Name\"]),\n",
    "        'Age' : int(row[\"Age\"]),\n",
    "        'Bib' : str(row[\"Bib\"]),\n",
    "        'Gender': str(row[\"M/F\"]),\n",
    "        'City': str(row[\"City\"]),\n",
    "        'State': str(row[\"State\"]),\n",
    "        'Country' : str(row[\"Country\"]),\n",
    "        'Half Marathon Split' : str(row[\"Half\"]),\n",
    "        'Offical Time' : str(row[\"Official Time\"]),\n",
    "        'Pace': str(row[\"Pace\"]),\n",
    "        'Finishing Place': int(row[\"Overall\"]),\n",
    "        'Division Placement' : int(row[\"Division\"]),\n",
    "        'Latitude' : str(row[\"lat\"]),\n",
    "        'Longitude' : str(row[\"long\"]),\n",
    "        'Year' : str(row[\"Year\"])}\n",
    "    data.append(post)"
   ]
  },
  {
   "cell_type": "code",
   "execution_count": 14,
   "id": "featured-jerusalem",
   "metadata": {},
   "outputs": [
    {
     "data": {
      "text/plain": [
       "<pymongo.results.InsertManyResult at 0x1ce8e3b1a88>"
      ]
     },
     "execution_count": 14,
     "metadata": {},
     "output_type": "execute_result"
    }
   ],
   "source": [
    "db.marathon.insert_many(data)"
   ]
  },
  {
   "cell_type": "code",
   "execution_count": null,
   "id": "located-difference",
   "metadata": {},
   "outputs": [],
   "source": []
  }
 ],
 "metadata": {
  "kernelspec": {
   "display_name": "Python 3",
   "language": "python",
   "name": "python3"
  },
  "language_info": {
   "codemirror_mode": {
    "name": "ipython",
    "version": 3
   },
   "file_extension": ".py",
   "mimetype": "text/x-python",
   "name": "python",
   "nbconvert_exporter": "python",
   "pygments_lexer": "ipython3",
   "version": "3.6.10"
  }
 },
 "nbformat": 4,
 "nbformat_minor": 5
}
