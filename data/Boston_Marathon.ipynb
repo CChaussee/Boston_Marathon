{
 "cells": [
  {
   "cell_type": "code",
   "execution_count": 1,
   "id": "committed-rover",
   "metadata": {},
   "outputs": [],
   "source": [
    "import pymongo\n",
    "import pandas as pd"
   ]
  },
  {
   "cell_type": "code",
   "execution_count": 2,
   "id": "terminal-resolution",
   "metadata": {},
   "outputs": [],
   "source": [
    "#making connection to mongoDB\n",
    "conn = \"mongodb://localhost:27017\"\n",
    "client = pymongo.MongoClient(conn)"
   ]
  },
  {
   "cell_type": "code",
   "execution_count": 3,
   "id": "bottom-alert",
   "metadata": {},
   "outputs": [],
   "source": [
    "#Creating database name\n",
    "db = client.marathon_db"
   ]
  },
  {
   "cell_type": "code",
   "execution_count": 4,
   "id": "impressive-boring",
   "metadata": {},
   "outputs": [],
   "source": [
    "#giving csv varabiles\n",
    "marathon15_file = \"marathon_results_2015.csv\"\n",
    "marathon16_file = \"marathon_results_2016.csv\"\n",
    "marathon17_file = \"marathon_results_2017.csv\""
   ]
  },
  {
   "cell_type": "code",
   "execution_count": 5,
   "id": "actual-syntax",
   "metadata": {},
   "outputs": [],
   "source": [
    "#reading csv and dropping unnamed columns\n",
    "mara15 = pd.read_csv(marathon15_file)\n",
    "mara15[\"Year\"] = \"2015\"\n",
    "del mara15[\"Unnamed: 0\"]\n",
    "del mara15[\"Unnamed: 9\"]"
   ]
  },
  {
   "cell_type": "code",
   "execution_count": 6,
   "id": "acceptable-buffalo",
   "metadata": {},
   "outputs": [],
   "source": [
    "mara16 = pd.read_csv(marathon16_file)\n",
    "mara16[\"Year\"] = \"2016\"\n",
    "del mara16[\"Unnamed: 8\"]"
   ]
  },
  {
   "cell_type": "code",
   "execution_count": 7,
   "id": "worst-calculator",
   "metadata": {},
   "outputs": [],
   "source": [
    "mara17 = pd.read_csv(marathon17_file)\n",
    "mara17[\"Year\"] = \"2017\"\n",
    "del mara17[\"Unnamed: 0\"]\n",
    "del mara17[\"Unnamed: 9\"]"
   ]
  },
  {
   "cell_type": "code",
   "execution_count": 11,
   "id": "charged-science",
   "metadata": {},
   "outputs": [
    {
     "name": "stdout",
     "output_type": "stream",
     "text": [
      "<class 'pandas.core.frame.DataFrame'>\n",
      "Int64Index: 79603 entries, 0 to 26398\n",
      "Data columns (total 26 columns):\n",
      " #   Column         Non-Null Count  Dtype  \n",
      "---  ------         --------------  -----  \n",
      " 0   Bib            79603 non-null  object \n",
      " 1   Name           79603 non-null  object \n",
      " 2   Age            79603 non-null  int64  \n",
      " 3   M/F            79603 non-null  object \n",
      " 4   City           79602 non-null  object \n",
      " 5   State          64439 non-null  object \n",
      " 6   Country        79603 non-null  object \n",
      " 7   Citizen        3440 non-null   object \n",
      " 8   5K             79603 non-null  object \n",
      " 9   10K            79603 non-null  object \n",
      " 10  15K            79603 non-null  object \n",
      " 11  20K            79603 non-null  object \n",
      " 12  Half           79603 non-null  object \n",
      " 13  25K            79603 non-null  object \n",
      " 14  30K            79603 non-null  object \n",
      " 15  35K            79603 non-null  object \n",
      " 16  40K            79603 non-null  object \n",
      " 17  Pace           79603 non-null  object \n",
      " 18  Proj Time      79603 non-null  object \n",
      " 19  Official Time  79603 non-null  object \n",
      " 20  Overall        79603 non-null  int64  \n",
      " 21  Gender         79603 non-null  int64  \n",
      " 22  Division       79603 non-null  int64  \n",
      " 23  lat            64439 non-null  float64\n",
      " 24  long           64439 non-null  float64\n",
      " 25  Year           79603 non-null  object \n",
      "dtypes: float64(2), int64(4), object(20)\n",
      "memory usage: 16.4+ MB\n"
     ]
    }
   ],
   "source": [
    "#merging all datasets into 1 dataset\n",
    "merged_df = mara15.append(mara16)\n",
    "merged_df = merged_df.append(mara17)\n",
    "#printing info to make sure it all worked\n",
    "merged_df.info()"
   ]
  },
  {
   "cell_type": "code",
   "execution_count": 13,
   "id": "devoted-observation",
   "metadata": {},
   "outputs": [],
   "source": [
    "#choosing which columns we want stored in our database\n",
    "data = []\n",
    "for index, row in merged_df.iterrows():\n",
    "    post={\n",
    "        'Name' : str(row[\"Name\"]),\n",
    "        'Age' : int(row[\"Age\"]),\n",
    "        'Bib' : str(row[\"Bib\"]),\n",
    "        'Gender': str(row[\"M/F\"]),\n",
    "        'City': str(row[\"City\"]),\n",
    "        'State': str(row[\"State\"]),\n",
    "        'Country' : str(row[\"Country\"]),\n",
    "        'Half Marathon Split' : str(row[\"Half\"]),\n",
    "        'Offical Time' : str(row[\"Official Time\"]),\n",
    "        'Pace': str(row[\"Pace\"]),\n",
    "        'Finishing Place': int(row[\"Overall\"]),\n",
    "        'Division Placement' : int(row[\"Division\"]),\n",
    "        'Latitude' : str(row[\"lat\"]),\n",
    "        'Longitude' : str(row[\"long\"]),\n",
    "        'Year' : str(row[\"Year\"])}\n",
    "    data.append(post)"
   ]
  },
  {
   "cell_type": "code",
   "execution_count": 14,
   "id": "featured-jerusalem",
   "metadata": {},
   "outputs": [
    {
     "data": {
      "text/plain": [
       "<pymongo.results.InsertManyResult at 0x1ce8e3b1a88>"
      ]
     },
     "execution_count": 14,
     "metadata": {},
     "output_type": "execute_result"
    }
   ],
   "source": [
    "#inserting data into databse\n",
    "db.marathon.insert_many(data)"
   ]
  }
 ],
 "metadata": {
  "kernelspec": {
   "display_name": "Python 3",
   "language": "python",
   "name": "python3"
  },
  "language_info": {
   "codemirror_mode": {
    "name": "ipython",
    "version": 3
   },
   "file_extension": ".py",
   "mimetype": "text/x-python",
   "name": "python",
   "nbconvert_exporter": "python",
   "pygments_lexer": "ipython3",
   "version": "3.6.10"
  }
 },
 "nbformat": 4,
 "nbformat_minor": 5
}
