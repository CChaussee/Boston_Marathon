{
 "cells": [
  {
   "cell_type": "code",
   "execution_count": 1,
   "id": "committed-rover",
   "metadata": {},
   "outputs": [],
   "source": [
    "import pymongo\n",
    "import pandas as pd"
   ]
  },
  {
   "cell_type": "code",
   "execution_count": 2,
   "id": "terminal-resolution",
   "metadata": {},
   "outputs": [],
   "source": [
    "conn = \"mongodb://localhost:27017\"\n",
    "client = pymongo.MongoClient(conn)"
   ]
  },
  {
   "cell_type": "code",
   "execution_count": 3,
   "id": "bottom-alert",
   "metadata": {},
   "outputs": [],
   "source": [
    "db = client.run_db\n",
    "db.run.drop()"
   ]
  },
  {
   "cell_type": "code",
   "execution_count": 5,
   "id": "impressive-boring",
   "metadata": {},
   "outputs": [
    {
     "ename": "SyntaxError",
     "evalue": "future feature print_statement is not defined (<ipython-input-5-bee3517ef674>, line 1)",
     "output_type": "error",
     "traceback": [
      "\u001b[1;36m  File \u001b[1;32m\"<ipython-input-5-bee3517ef674>\"\u001b[1;36m, line \u001b[1;32m1\u001b[0m\n\u001b[1;33m    from __future__ import print_statement\u001b[0m\n\u001b[1;37m                                          ^\u001b[0m\n\u001b[1;31mSyntaxError\u001b[0m\u001b[1;31m:\u001b[0m future feature print_statement is not defined\n"
     ]
    }
   ],
   "source": [
    "from __future__ import print_statement\n",
    "import time\n",
    "import swagger_client\n",
    "from swagger_client.rest import ApiException\n",
    "from pprint import pprint\n",
    "\n",
    "# Configure OAuth2 access token for authorization: strava_oauth\n",
    "swagger_client.configuration.access_token = 'YOUR_ACCESS_TOKEN'\n",
    "\n",
    "# create an instance of the API class\n",
    "api_instance = swagger_client.ActivitiesApi()\n",
    "name = name_example # String | The name of the activity.\n",
    "type = type_example # String | Type of activity. For example - Run, Ride etc.\n",
    "#startDateLocal = 2013-10-20T19:20:30+01:00 # Date | ISO 8601 formatted date time.\n",
    "elapsedTime = 56 # Integer | In seconds.\n",
    "description = description_example # String | Description of the activity. (optional)\n",
    "distance = 3.4 # Float | In meters. (optional)\n",
    "trainer = 56 # Integer | Set to 1 to mark as a trainer activity. (optional)\n",
    "commute = 56 # Integer | Set to 1 to mark as commute. (optional)\n",
    "\n",
    "try: \n",
    "    # Create an Activity\n",
    "    api_response = api_instance.createActivity(name, type, startDateLocal, elapsedTime, description=description, distance=distance, trainer=trainer, commute=commute)\n",
    "    pprint(api_response)\n",
    "except ApiException as e:\n",
    "    print(\"Exception when calling ActivitiesApi->createActivity: %s\\n\" % e)"
   ]
  },
  {
   "cell_type": "code",
   "execution_count": null,
   "id": "actual-syntax",
   "metadata": {},
   "outputs": [],
   "source": []
  }
 ],
 "metadata": {
  "kernelspec": {
   "display_name": "Python 3",
   "language": "python",
   "name": "python3"
  },
  "language_info": {
   "codemirror_mode": {
    "name": "ipython",
    "version": 3
   },
   "file_extension": ".py",
   "mimetype": "text/x-python",
   "name": "python",
   "nbconvert_exporter": "python",
   "pygments_lexer": "ipython3",
   "version": "3.6.10"
  }
 },
 "nbformat": 4,
 "nbformat_minor": 5
}
